{
 "cells": [
  {
   "cell_type": "markdown",
   "id": "3aefc012",
   "metadata": {},
   "source": [
    "# Extrovert Vs Introvert Personality Traits Dataset\n",
    "\n",
    "## Author: Houston Asher-Laws"
   ]
  },
  {
   "cell_type": "markdown",
   "id": "4d4c1c2a",
   "metadata": {},
   "source": [
    "## Project Overview \n",
    "\n",
    "The goal of this project is Precdicate personality types using EDA and data visulization tools."
   ]
  },
  {
   "cell_type": "code",
   "execution_count": 5,
   "id": "0c5838f6",
   "metadata": {},
   "outputs": [
    {
     "name": "stdout",
     "output_type": "stream",
     "text": [
      "   Time_spent_Alone Stage_fear  Social_event_attendance  Going_outside  \\\n",
      "0               4.0         No                      4.0            6.0   \n",
      "1               9.0        Yes                      0.0            0.0   \n",
      "2               9.0        Yes                      1.0            2.0   \n",
      "3               0.0         No                      6.0            7.0   \n",
      "4               3.0         No                      9.0            4.0   \n",
      "\n",
      "  Drained_after_socializing  Friends_circle_size  Post_frequency Personality  \n",
      "0                        No                 13.0             5.0   Extrovert  \n",
      "1                       Yes                  0.0             3.0   Introvert  \n",
      "2                       Yes                  5.0             2.0   Introvert  \n",
      "3                        No                 14.0             8.0   Extrovert  \n",
      "4                        No                  8.0             5.0   Extrovert  \n"
     ]
    }
   ],
   "source": [
    "import matplotlib.pyplot as plt\n",
    "import pandas as pd\n",
    "import seaborn as sns\n",
    "\n",
    "# Load your own dataset from the \"data\" folder\n",
    "df = pd.read_csv('data/personality_dataset.csv')\n",
    "\n",
    "# Show first few rows\n",
    "print(df.head())\n"
   ]
  },
  {
   "cell_type": "markdown",
   "id": "ae2a8a56",
   "metadata": {},
   "source": [
    "##  Initial Data Inspection"
   ]
  },
  {
   "cell_type": "code",
   "execution_count": 6,
   "id": "f6fc17f1",
   "metadata": {},
   "outputs": [
    {
     "name": "stdout",
     "output_type": "stream",
     "text": [
      "   Time_spent_Alone Stage_fear  Social_event_attendance  Going_outside  \\\n",
      "0               4.0         No                      4.0            6.0   \n",
      "1               9.0        Yes                      0.0            0.0   \n",
      "2               9.0        Yes                      1.0            2.0   \n",
      "3               0.0         No                      6.0            7.0   \n",
      "4               3.0         No                      9.0            4.0   \n",
      "5               1.0         No                      7.0            5.0   \n",
      "6               4.0         No                      9.0            NaN   \n",
      "7               2.0         No                      8.0            4.0   \n",
      "8              10.0        Yes                      1.0            3.0   \n",
      "9               0.0         No                      8.0            6.0   \n",
      "\n",
      "  Drained_after_socializing  Friends_circle_size  Post_frequency Personality  \n",
      "0                        No                 13.0             5.0   Extrovert  \n",
      "1                       Yes                  0.0             3.0   Introvert  \n",
      "2                       Yes                  5.0             2.0   Introvert  \n",
      "3                        No                 14.0             8.0   Extrovert  \n",
      "4                        No                  8.0             5.0   Extrovert  \n",
      "5                        No                  6.0             6.0   Extrovert  \n",
      "6                        No                  7.0             7.0   Extrovert  \n",
      "7                        No                  7.0             8.0   Extrovert  \n",
      "8                       Yes                  0.0             3.0   Introvert  \n",
      "9                        No                 13.0             8.0   Extrovert  \n",
      "(2900, 8)\n",
      "Time_spent_Alone             float64\n",
      "Stage_fear                    object\n",
      "Social_event_attendance      float64\n",
      "Going_outside                float64\n",
      "Drained_after_socializing     object\n",
      "Friends_circle_size          float64\n",
      "Post_frequency               float64\n",
      "Personality                   object\n",
      "dtype: object\n"
     ]
    }
   ],
   "source": [
    "\n",
    "print(df.head(10))\n",
    "print(df.shape)\n",
    "print(df.dtypes)"
   ]
  },
  {
   "cell_type": "markdown",
   "id": "1044665c",
   "metadata": {},
   "source": [
    "## Initial Descriptive Statistics"
   ]
  },
  {
   "cell_type": "code",
   "execution_count": 7,
   "id": "9241bd03",
   "metadata": {},
   "outputs": [
    {
     "name": "stdout",
     "output_type": "stream",
     "text": [
      "       Time_spent_Alone  Social_event_attendance  Going_outside  \\\n",
      "count       2837.000000              2838.000000    2834.000000   \n",
      "mean           4.505816                 3.963354       3.000000   \n",
      "std            3.479192                 2.903827       2.247327   \n",
      "min            0.000000                 0.000000       0.000000   \n",
      "25%            2.000000                 2.000000       1.000000   \n",
      "50%            4.000000                 3.000000       3.000000   \n",
      "75%            8.000000                 6.000000       5.000000   \n",
      "max           11.000000                10.000000       7.000000   \n",
      "\n",
      "       Friends_circle_size  Post_frequency  \n",
      "count          2823.000000     2835.000000  \n",
      "mean              6.268863        3.564727  \n",
      "std               4.289693        2.926582  \n",
      "min               0.000000        0.000000  \n",
      "25%               3.000000        1.000000  \n",
      "50%               5.000000        3.000000  \n",
      "75%              10.000000        6.000000  \n",
      "max              15.000000       10.000000  \n"
     ]
    }
   ],
   "source": [
    "print(df.describe())"
   ]
  },
  {
   "cell_type": "markdown",
   "id": "4c8f3e25",
   "metadata": {},
   "source": [
    "##  Initial Data Distribution for Numerical Columns"
   ]
  },
  {
   "cell_type": "code",
   "execution_count": null,
   "id": "76651c23",
   "metadata": {},
   "outputs": [],
   "source": [
    "# Inspect histogram by numerical column\n",
    "df['sepal_length'].hist()\n",
    "\n",
    "# Inspect histograms for all numerical columns\n",
    "df.hist()\n",
    "\n",
    "# Show all plots\n",
    "plt.show()"
   ]
  },
  {
   "cell_type": "markdown",
   "id": "61124400",
   "metadata": {},
   "source": [
    "## Initial Data Distribution for Categorical Columns"
   ]
  },
  {
   "cell_type": "code",
   "execution_count": null,
   "id": "a79cc806",
   "metadata": {},
   "outputs": [],
   "source": [
    "# Inspect value counts by categorical column\n",
    "df['species'].value_counts()\n",
    "\n",
    "# Inspect value counts for all categorical columns\n",
    "for col in df.select_dtypes(include=['object', 'category']).columns:\n",
    "    # Display count plot\n",
    "    sns.countplot(x=col, data=df)\n",
    "    plt.title(f'Distribution of {col}')\n",
    "    plt.show()\n",
    "\n",
    "# Show all plots\n",
    "plt.show()"
   ]
  }
 ],
 "metadata": {
  "kernelspec": {
   "display_name": ".venv",
   "language": "python",
   "name": "python3"
  },
  "language_info": {
   "codemirror_mode": {
    "name": "ipython",
    "version": 3
   },
   "file_extension": ".py",
   "mimetype": "text/x-python",
   "name": "python",
   "nbconvert_exporter": "python",
   "pygments_lexer": "ipython3",
   "version": "3.13.3"
  }
 },
 "nbformat": 4,
 "nbformat_minor": 5
}
